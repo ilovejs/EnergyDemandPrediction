{
 "cells": [
  {
   "cell_type": "code",
   "execution_count": 8,
   "metadata": {},
   "outputs": [],
   "source": [
    "import numpy as np\n",
    "import numpy.random as rnd\n",
    "import matplotlib.pyplot as plt \n",
    "import scipy.linalg as lin\n",
    "import re"
   ]
  },
  {
   "cell_type": "code",
   "execution_count": 20,
   "metadata": {},
   "outputs": [],
   "source": [
    "f = open('chfdb_chf01_275.txt')\n",
    "lines = f.readlines()\n",
    "f.close()"
   ]
  },
  {
   "cell_type": "code",
   "execution_count": 24,
   "metadata": {},
   "outputs": [
    {
     "data": {
      "text/plain": [
       "['275.000\\t -0.645\\t  0.665\\n',\n",
       " '275.004\\t -0.635\\t  0.710\\n',\n",
       " '275.008\\t -0.645\\t  0.745\\n',\n",
       " '275.012\\t -0.635\\t  0.760\\n']"
      ]
     },
     "execution_count": 24,
     "metadata": {},
     "output_type": "execute_result"
    }
   ],
   "source": [
    "lines[:4]"
   ]
  },
  {
   "cell_type": "code",
   "execution_count": 27,
   "metadata": {},
   "outputs": [],
   "source": [
    "lines = list(map(lambda l: re.split('\\\\s+', l), lines))"
   ]
  },
  {
   "cell_type": "code",
   "execution_count": 28,
   "metadata": {},
   "outputs": [
    {
     "data": {
      "text/plain": [
       "[['275.000', '-0.645', '0.665', ''],\n",
       " ['275.004', '-0.635', '0.710', ''],\n",
       " ['275.008', '-0.645', '0.745', '']]"
      ]
     },
     "execution_count": 28,
     "metadata": {},
     "output_type": "execute_result"
    }
   ],
   "source": [
    "lines[:3]"
   ]
  },
  {
   "cell_type": "code",
   "execution_count": 36,
   "metadata": {},
   "outputs": [
    {
     "data": {
      "text/plain": [
       "[['275.000', '-0.645', '0.665'],\n",
       " ['275.004', '-0.635', '0.710'],\n",
       " ['275.008', '-0.645', '0.745']]"
      ]
     },
     "execution_count": 36,
     "metadata": {},
     "output_type": "execute_result"
    }
   ],
   "source": [
    "arr = [list(filter(lambda x: x != '', l)) for l in lines]\n",
    "arr[:3]"
   ]
  },
  {
   "cell_type": "code",
   "execution_count": 42,
   "metadata": {},
   "outputs": [
    {
     "data": {
      "text/plain": [
       "[[275.0, -0.645, 0.665], [275.004, -0.635, 0.71], [275.008, -0.645, 0.745]]"
      ]
     },
     "execution_count": 42,
     "metadata": {},
     "output_type": "execute_result"
    }
   ],
   "source": [
    "farr = [list(map(float, l)) for l in arr]\n",
    "farr[:3]"
   ]
  },
  {
   "cell_type": "code",
   "execution_count": 78,
   "metadata": {},
   "outputs": [
    {
     "data": {
      "text/plain": [
       "array([[ 2.75000e+02,  2.75004e+02,  2.75008e+02, ...,  2.89992e+02,\n",
       "         2.89996e+02,  2.90000e+02],\n",
       "       [-6.45000e-01, -6.35000e-01, -6.45000e-01, ..., -4.35000e-01,\n",
       "        -4.45000e-01, -4.35000e-01],\n",
       "       [ 6.65000e-01,  7.10000e-01,  7.45000e-01, ..., -7.00000e-02,\n",
       "        -6.00000e-02, -7.00000e-02]])"
      ]
     },
     "execution_count": 78,
     "metadata": {},
     "output_type": "execute_result"
    }
   ],
   "source": [
    "data = np.array(farr).T\n",
    "data"
   ]
  },
  {
   "cell_type": "code",
   "execution_count": 79,
   "metadata": {},
   "outputs": [
    {
     "name": "stdout",
     "output_type": "stream",
     "text": [
      "275.000\t -0.645\t  0.665\r",
      "\r\n",
      "275.004\t -0.635\t  0.710\r",
      "\r\n",
      "275.008\t -0.645\t  0.745\r",
      "\r\n",
      "275.012\t -0.635\t  0.760\r",
      "\r\n",
      "275.016\t -0.645\t  0.785\r",
      "\r\n",
      "275.020\t -0.630\t  0.790\r",
      "\r\n",
      "275.024\t -0.630\t  0.815\r",
      "\r\n",
      "275.028\t -0.635\t  0.835\r",
      "\r\n",
      "275.032\t -0.625\t  0.860\r",
      "\r\n",
      "275.036\t -0.645\t  0.870\r",
      "\r\n"
     ]
    }
   ],
   "source": [
    "!head chfdb_chf01_275.txt"
   ]
  },
  {
   "cell_type": "code",
   "execution_count": 80,
   "metadata": {},
   "outputs": [
    {
     "data": {
      "text/plain": [
       "(3, 3751)"
      ]
     },
     "execution_count": 80,
     "metadata": {},
     "output_type": "execute_result"
    }
   ],
   "source": [
    "data.shape"
   ]
  },
  {
   "cell_type": "code",
   "execution_count": 81,
   "metadata": {},
   "outputs": [],
   "source": [
    "def create_mats(dat):\n",
    "    '''\n",
    "    create \n",
    "        A - an initial transition matrix \n",
    "        pA - pseudocounts for A\n",
    "        w - emission distribution regression weights\n",
    "        K - number of hidden states\n",
    "    '''\n",
    "    step = 5  # adjust this to change the granularity of the pattern\n",
    "    eps = 0.1\n",
    "    dat = dat[::step]\n",
    "    K = len(dat) + 1\n",
    "    A = np.zeros((K, K))\n",
    "    A[0, 1] = 1.0\n",
    "    pA = np.zeros((K, K))\n",
    "    pA[0, 1] = 1.0\n",
    "    for i in range(1, K - 1):\n",
    "        A[i, i] = (step - 1.0 + eps) / (step + 2 * eps)\n",
    "        A[i, i + 1] = (1. + eps) / (step + 2 * eps)\n",
    "        pA[i, i] = 1.0\n",
    "        pA[i, i + 1] = 1.0\n",
    "        \n",
    "    A[-1, -1] = (step - 1.0 + eps) / (step + 2 * eps)\n",
    "    A[-1, 1] = (1. + eps) / (step + 2 * eps)\n",
    "    pA[-1, -1] = 1.0\n",
    "    pA[-1, 1] = 1.0\n",
    "\n",
    "    w = np.ones((K, 2), dtype=np.float)\n",
    "    w[0, 1] = dat[0]\n",
    "    w[1:-1, 1] = (dat[:-1] - dat[1:]) / step\n",
    "    w[-1, 1] = (dat[0] - dat[-1]) / step\n",
    "\n",
    "    return A, pA, w, K\n",
    "\n",
    "\n",
    "def fwd(xn):\n",
    "    global f, e\n",
    "    for t in range(T):\n",
    "        f[t + 1, :] = np.dot(f[t, :], A) * e[t, :]\n",
    "        sm = np.sum(f[t + 1, :])\n",
    "        fls[t + 1] = fls[t] + np.log(sm)\n",
    "        f[t + 1, :] /= sm\n",
    "        assert f[t + 1, 0] == 0\n",
    "\n",
    "\n",
    "def bck(xn):\n",
    "    global b, e\n",
    "    for t in range(T - 1, -1, -1):\n",
    "        b[t, :] = np.dot(A, b[t + 1, :] * e[t, :])\n",
    "        sm = np.sum(b[t, :])\n",
    "        bls[t] = bls[t + 1] + np.log(sm)\n",
    "        b[t, :] /= sm\n",
    "\n",
    "\n",
    "def em_step(xn):\n",
    "    global A, w, eta\n",
    "    global f, b, e, v\n",
    "    global ex_k, ex_kk, nkk\n",
    "\n",
    "    x = xn[:-1]  # current data vectors\n",
    "    y = xn[1:, :1]  # next data vectors predicted from current\n",
    "    # compute residuals\n",
    "    v = np.dot(x, w.T)  # (N,K) <- (N,1) (N,K)\n",
    "    v -= y\n",
    "    e = np.exp(-eta / 2 * v ** 2, e)\n",
    "\n",
    "    fwd(xn)\n",
    "    bck(xn)\n",
    "\n",
    "    # compute expected hidden states\n",
    "    for t in range(len(e)):\n",
    "        ex_k[t, :] = f[t + 1, :] * b[t + 1, :]\n",
    "        ex_k[t, :] /= np.sum(ex_k[t, :])\n",
    "\n",
    "    # compute expected pairs of hidden states    \n",
    "    for t in range(len(f) - 1):\n",
    "        ex_kk = A * f[t, :][:, np.newaxis] * e[t, :] * b[t + 1, :]\n",
    "        ex_kk /= np.sum(ex_kk)\n",
    "        nkk += ex_kk\n",
    "\n",
    "    # max w/ respect to transition probabilities\n",
    "    A = pA + nkk\n",
    "    A /= np.sum(A, 1)[:, np.newaxis]\n",
    "\n",
    "    # solve the weighted regression problem for emissions weights\n",
    "    #  x and y are from above \n",
    "    for k in range(K):\n",
    "        ex = ex_k[:, k][:, np.newaxis]\n",
    "        dx = np.dot(x.T, ex * x)\n",
    "        dy = np.dot(x.T, ex * y)\n",
    "        dy.shape = (2)\n",
    "        w[k, :] = lin.solve(dx + lam * np.eye(x.shape[1]), dy)\n",
    "\n",
    "    # return the probability of the sequence (computed by the forward algorithm)\n",
    "    return fls[-1]\n"
   ]
  },
  {
   "cell_type": "code",
   "execution_count": 82,
   "metadata": {},
   "outputs": [
    {
     "data": {
      "text/plain": [
       "numpy.ndarray"
      ]
     },
     "execution_count": 82,
     "metadata": {},
     "output_type": "execute_result"
    }
   ],
   "source": [
    "type(data)"
   ]
  },
  {
   "cell_type": "code",
   "execution_count": 83,
   "metadata": {},
   "outputs": [
    {
     "data": {
      "text/plain": [
       "array([[ 2.75000e+02,  2.75004e+02,  2.75008e+02, ...,  2.89992e+02,\n",
       "         2.89996e+02,  2.90000e+02],\n",
       "       [-6.45000e-01, -6.35000e-01, -6.45000e-01, ..., -4.35000e-01,\n",
       "        -4.45000e-01, -4.35000e-01],\n",
       "       [ 6.65000e-01,  7.10000e-01,  7.45000e-01, ..., -7.00000e-02,\n",
       "        -6.00000e-02, -7.00000e-02]])"
      ]
     },
     "execution_count": 83,
     "metadata": {},
     "output_type": "execute_result"
    }
   ],
   "source": [
    "data"
   ]
  },
  {
   "cell_type": "code",
   "execution_count": 84,
   "metadata": {},
   "outputs": [
    {
     "data": {
      "text/plain": [
       "array([-0.645, -0.635, -0.645, -0.635, -0.645, -0.63 , -0.63 , -0.635,\n",
       "       -0.625, -0.645, -0.63 , -0.62 , -0.62 , -0.61 , -0.62 , -0.595,\n",
       "       -0.585, -0.59 , -0.585, -0.565, -0.57 , -0.555, -0.53 , -0.5  ,\n",
       "       -0.475, -0.465, -0.46 , -0.46 , -0.45 , -0.445, -0.43 , -0.415,\n",
       "       -0.4  , -0.38 , -0.38 , -0.4  , -0.415, -0.405, -0.42 , -0.42 ,\n",
       "       -0.415, -0.425, -0.415, -0.43 , -0.44 , -0.435, -0.455, -0.465,\n",
       "       -0.47 , -0.475, -0.45 , -0.465, -0.465, -0.465, -0.485, -0.47 ,\n",
       "       -0.49 , -0.5  , -0.495, -0.5  , -0.51 , -0.515, -0.515, -0.52 ,\n",
       "       -0.525, -0.51 , -0.52 , -0.505, -0.5  , -0.49 , -0.48 , -0.525,\n",
       "       -0.515, -0.525, -0.515, -0.51 , -0.5  , -0.5  , -0.475, -0.485,\n",
       "       -0.48 , -0.5  , -0.505, -0.48 , -0.475, -0.485, -0.475, -0.47 ,\n",
       "       -0.495, -0.485, -0.5  , -0.475, -0.465, -0.445, -0.41 , -0.395,\n",
       "       -0.37 , -0.345, -0.345, -0.34 , -0.34 , -0.33 , -0.315, -0.295,\n",
       "       -0.25 , -0.23 , -0.25 , -0.26 , -0.3  , -0.305, -0.34 , -0.335,\n",
       "       -0.345, -0.36 , -0.36 , -0.375, -0.385, -0.41 , -0.42 , -0.435,\n",
       "       -0.455, -0.475, -0.485, -0.51 , -0.525, -0.53 , -0.54 , -0.55 ,\n",
       "       -0.56 , -0.54 , -0.54 , -0.53 , -0.53 , -0.52 , -0.525, -0.515,\n",
       "       -0.535, -0.55 , -0.555, -0.535, -0.49 , -0.495, -0.5  , -0.495,\n",
       "       -0.495, -0.475, -0.45 , -0.43 , -0.35 , -0.23 , -0.07 ,  0.095,\n",
       "        0.31 ,  0.47 ,  0.55 ,  0.57 ,  0.605,  0.58 ,  0.505,  0.43 ,\n",
       "        0.36 ,  0.315,  0.305,  0.335,  0.345,  0.32 ,  0.27 ,  0.165,\n",
       "        0.08 ,  0.06 ,  0.135,  0.255,  0.31 ,  0.275,  0.11 , -0.11 ,\n",
       "       -0.295, -0.385, -0.39 , -0.375, -0.375, -0.455, -0.54 , -0.585,\n",
       "       -0.585, -0.565, -0.55 , -0.535, -0.54 , -0.54 , -0.54 , -0.56 ,\n",
       "       -0.535, -0.55 , -0.56 , -0.54 , -0.54 , -0.535, -0.53 , -0.56 ,\n",
       "       -0.555, -0.57 , -0.555, -0.575, -0.57 , -0.575, -0.555, -0.57 ,\n",
       "       -0.59 , -0.6  , -0.6  , -0.61 , -0.62 , -0.61 , -0.64 , -0.62 ,\n",
       "       -0.62 , -0.64 , -0.635, -0.635, -0.665, -0.645, -0.655, -0.64 ,\n",
       "       -0.65 , -0.645, -0.665, -0.665, -0.675, -0.675])"
      ]
     },
     "execution_count": 84,
     "metadata": {},
     "output_type": "execute_result"
    }
   ],
   "source": [
    "data[1, :dK]"
   ]
  },
  {
   "cell_type": "code",
   "execution_count": 85,
   "metadata": {},
   "outputs": [
    {
     "data": {
      "text/plain": [
       "array([-0.675, -0.655, -0.66 , ..., -0.435, -0.445, -0.435])"
      ]
     },
     "execution_count": 85,
     "metadata": {},
     "output_type": "execute_result"
    }
   ],
   "source": [
    "data[1, dK:]"
   ]
  },
  {
   "cell_type": "code",
   "execution_count": 86,
   "metadata": {},
   "outputs": [],
   "source": [
    "# backup_data = data.copy()\n",
    "data = backup_data"
   ]
  },
  {
   "cell_type": "code",
   "execution_count": 87,
   "metadata": {},
   "outputs": [],
   "source": [
    "dK = 230\n",
    "pattern = data[1, :dK]\n",
    "data = data[1, dK:]\n",
    "\n",
    "# initialize stuff\n",
    "A, pA, w, K = create_mats(pattern)\n",
    "\n",
    "eta = 10.  # precision parameter for the autoregressive portion of the model \n",
    "lam = 0.1  # precision parameter for the weights prior \n",
    "\n",
    "N = 1  # number of sequences\n",
    "M = 2  # number of dimensions - the second variable is for the bias term\n",
    "T = len(data)  # length of sequences\n",
    "\n",
    "x = np.ones((T + 1, M))  # sequence data (just one sequence)\n",
    "x[0, 1] = 1\n",
    "x[1:, 0] = data\n",
    "\n",
    "# emissions\n",
    "e = np.zeros((T, K))\n",
    "# residuals\n",
    "v = np.zeros((T, K))\n",
    "\n",
    "# store the forward and backward recurrences\n",
    "f = np.zeros((T + 1, K))\n",
    "fls = np.zeros((T + 1))\n",
    "f[0, 0] = 1\n",
    "b = np.zeros((T + 1, K))\n",
    "bls = np.zeros((T + 1))\n",
    "b[-1, 1:] = 1. / (K - 1)\n",
    "\n",
    "# hidden states\n",
    "z = np.zeros((T + 1), dtype=np.int)\n",
    "\n",
    "# expected hidden states\n",
    "ex_k = np.zeros((T, K))\n",
    "\n",
    "# expected pairs of hidden states\n",
    "ex_kk = np.zeros((K, K))\n",
    "nkk = np.zeros((K, K))"
   ]
  },
  {
   "cell_type": "code",
   "execution_count": 88,
   "metadata": {},
   "outputs": [],
   "source": [
    "%matplotlib inline\n",
    "plt.figure(figsize=(20,10))"
   ]
  },
  {
   "cell_type": "code",
   "execution_count": 97,
   "metadata": {},
   "outputs": [
    {
     "name": "stdout",
     "output_type": "stream",
     "text": [
      "-37.73886943564608\n",
      "-37.73566655731491\n",
      "-37.7325163174457\n",
      "-37.729417269015336\n",
      "-37.72636801917879\n",
      "-37.72336722672597\n",
      "-37.72041359967908\n",
      "-37.71750589302519\n",
      "-37.71464290657192\n",
      "-37.711823482920146\n",
      "-37.70904650554649\n",
      "-37.706310896988434\n",
      "-37.70361561712628\n",
      "-37.70095966155494\n",
      "-37.69834206003975\n",
      "-37.69576187505539\n",
      "-37.69321820039645\n",
      "-37.690710159861055\n",
      "-37.688236905998124\n",
      "-37.685797618922976\n"
     ]
    },
    {
     "data": {
      "image/png": "[encoded data removed]",
      "text/plain": [
       "<Figure size 1440x720 with 1 Axes>"
      ]
     },
     "metadata": {
      "needs_background": "light"
     },
     "output_type": "display_data"
    }
   ],
   "source": [
    "# em algorithm\n",
    "for i in range(20):\n",
    "    print(em_step(x))\n",
    "\n",
    "# get rough boundaries by taking the maximum expected hidden state for each position\n",
    "r = np.arange(len(ex_k))[np.argmax(ex_k, 1) < 3]\n",
    "\n",
    "plt.plot(range(T),\n",
    "         x[1:,0])\n",
    "\n",
    "yr = [np.min(x[:,0]),np.max(x[:,0])]\n",
    "\n",
    "for i in r:\n",
    "    plt.plot([i,i], yr, '-r')"
   ]
  },
  {
   "cell_type": "code",
   "execution_count": 94,
   "metadata": {},
   "outputs": [],
   "source": []
  }
 ],
 "metadata": {
  "kernelspec": {
   "display_name": "Python 3",
   "language": "python",
   "name": "python3"
  },
  "language_info": {
   "codemirror_mode": {
    "name": "ipython",
    "version": 3
   },
   "file_extension": ".py",
   "mimetype": "text/x-python",
   "name": "python",
   "nbconvert_exporter": "python",
   "pygments_lexer": "ipython3",
   "version": "3.6.7"
  }
 },
 "nbformat": 4,
 "nbformat_minor": 2
}
